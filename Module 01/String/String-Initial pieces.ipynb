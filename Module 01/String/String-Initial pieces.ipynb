{
 "cells": [
  {
   "cell_type": "markdown",
   "id": "4e5fa91b",
   "metadata": {},
   "source": [
    "### Forma Básica"
   ]
  },
  {
   "cell_type": "code",
   "execution_count": 9,
   "id": "fba45682",
   "metadata": {},
   "outputs": [],
   "source": [
    "precos = \"Jan: 25, Fev: 27, Mar: 29\""
   ]
  },
  {
   "cell_type": "markdown",
   "id": "afe5dc17",
   "metadata": {},
   "source": [
    "### Posição Inicial e Final"
   ]
  },
  {
   "cell_type": "code",
   "execution_count": 10,
   "id": "c3488405",
   "metadata": {},
   "outputs": [
    {
     "name": "stdout",
     "output_type": "stream",
     "text": [
      "25\n",
      "29\n",
      "27\n",
      "27\n"
     ]
    }
   ],
   "source": [
    "preco_jan = precos[5:7]\n",
    "# Do inicio até o caracter de indice 7 (sem contar com o sete)\n",
    "preco_marco = precos[-2:]\n",
    "# do caracter de indice -2 até o final :\n",
    "preco_fev = precos[14:16]\n",
    "preco_fev2 = precos[-11:-9]\n",
    "print(preco_jan)\n",
    "print(preco_marco)\n",
    "print(preco_fev)\n",
    "print(preco_fev2)"
   ]
  },
  {
   "cell_type": "markdown",
   "id": "bca6dfd4",
   "metadata": {},
   "source": [
    "### Posição Inicial e Final com Step"
   ]
  },
  {
   "cell_type": "code",
   "execution_count": 29,
   "id": "981224c2",
   "metadata": {},
   "outputs": [
    {
     "name": "stdout",
     "output_type": "stream",
     "text": [
      "1543\n",
      "12345123479\n",
      "G oiah\n"
     ]
    }
   ],
   "source": [
    "codigo = \"1.2.3.4,5,1,2.3.4,7.9\"\n",
    "pedaco_cod = codigo[10:2:-2]\n",
    "pedaco_cod2 = codigo[::2]\n",
    "print(pedaco_cod)\n",
    "print(pedaco_cod2)\n",
    "nome = \"Gabriel Augusto Vilarinho Viana Rocha\"\n",
    "pedaco_nome = nome[::7]\n",
    "print(pedaco_nome)"
   ]
  }
 ],
 "metadata": {
  "kernelspec": {
   "display_name": "Python 3 (ipykernel)",
   "language": "python",
   "name": "python3"
  },
  "language_info": {
   "codemirror_mode": {
    "name": "ipython",
    "version": 3
   },
   "file_extension": ".py",
   "mimetype": "text/x-python",
   "name": "python",
   "nbconvert_exporter": "python",
   "pygments_lexer": "ipython3",
   "version": "3.11.2"
  }
 },
 "nbformat": 4,
 "nbformat_minor": 5
}
