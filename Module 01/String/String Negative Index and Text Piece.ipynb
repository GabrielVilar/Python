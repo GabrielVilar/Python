{
 "cells": [
  {
   "cell_type": "raw",
   "metadata": {},
   "source": [
    "Texto: lira@gmail.com\n",
    "\n",
    "-14 -13 -12 -11 -10 -9 -8 -7 -6 -5 -4 -3 -2 -1\n",
    "  l   i   r   a   @  g  m  a  i  l  .  c  o  m\n",
    "  0   1   2   3   4  5  6  7  8  9 10 11 12 13\n",
    "  \n",
    "Para pegar um texto de trás para frente: texto[índice] -> onde índice é negativo\n",
    "Para pegar o pedaço de um texto use : (dois pontos). \n",
    "texto[:indice] ou texto[indice:] ou ainda texto[indice:indice]"
   ]
  },
  {
   "cell_type": "code",
   "execution_count": 1,
   "metadata": {},
   "outputs": [
    {
     "name": "stdout",
     "output_type": "stream",
     "text": [
      "o\n",
      "a@g\n",
      "@gmail.com\n",
      "lira\n",
      "@gmail.co\n"
     ]
    }
   ],
   "source": [
    "email = 'lira@gmail.com'\n",
    "nome = 'João Paulo Lira'\n",
    "# Pega um caracter específico, contagem de trás pra frente\n",
    "print(email[-2])\n",
    "# Printa apenas da letra com índice 4 (@) até a letra com índice 13 (m) \n",
    "# (Não conta com o 14, ou seja, pega tudo antes dele)\n",
    "print(email[3:6])\n",
    "# Print do índice 4 pra frente (conta com o 4)\n",
    "print(email[4:])\n",
    "# Print do índice 4 pra trás (sem contar com o 4)\n",
    "print(email[:4])\n",
    "# Também funciona na ordem inversa\n",
    "print(email[-10:-1])\n",
    "\n"
   ]
  },
  {
   "cell_type": "markdown",
   "metadata": {},
   "source": [
    "Exercícios para Fixação:\n",
    "Basta completar os prints de forma correta"
   ]
  },
  {
   "cell_type": "code",
   "execution_count": 3,
   "metadata": {},
   "outputs": [
    {
     "name": "stdout",
     "output_type": "stream",
     "text": [
      "Tamanho do e-mail 14 caracteres\n",
      "Primeiro Caractere l\n",
      "Último Caractere m\n",
      "Servidor do email gmail\n"
     ]
    }
   ],
   "source": [
    "print('Tamanho do e-mail ' + str(len(email)) + ' caracteres')\n",
    "print('Primeiro Caractere ' + email[0])\n",
    "print('Último Caractere ' + email[-1])\n",
    "print('Servidor do email ' + email[5:10])"
   ]
  }
 ],
 "metadata": {
  "kernelspec": {
   "display_name": "Python 3",
   "language": "python",
   "name": "python3"
  },
  "language_info": {
   "codemirror_mode": {
    "name": "ipython",
    "version": 3
   },
   "file_extension": ".py",
   "mimetype": "text/x-python",
   "name": "python",
   "nbconvert_exporter": "python",
   "pygments_lexer": "ipython3",
   "version": "3.11.2"
  }
 },
 "nbformat": 4,
 "nbformat_minor": 4
}
