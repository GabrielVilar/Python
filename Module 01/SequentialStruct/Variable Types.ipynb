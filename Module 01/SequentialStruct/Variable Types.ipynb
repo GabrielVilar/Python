{
 "cells": [
  {
   "cell_type": "markdown",
   "metadata": {},
   "source": [
    "# Tipos de Variáveis em Python"
   ]
  },
  {
   "cell_type": "markdown",
   "metadata": {},
   "source": [
    "Uma variável é um objeto, afinal tudo é um objeto em Python\n",
    "\n",
    "int -> inteiro<br>\n",
    "string -> texto<br>\n",
    "float -> números com casas decimais (ponto flutuante)<br>\n",
    "bool ou boolean -> True ou False<br>\n",
    "\n",
    "Obs: Variáveis em Python não são declaradas explicitamente, mas isso não significa que você deve ficar mudando o tempo todo\n",
    "\n",
    "Obs2: Cuidado com os nomes restritos (arquivo para Download)"
   ]
  },
  {
   "cell_type": "code",
   "execution_count": 1,
   "metadata": {},
   "outputs": [
    {
     "data": {
      "text/plain": [
       "int"
      ]
     },
     "execution_count": 1,
     "metadata": {},
     "output_type": "execute_result"
    }
   ],
   "source": [
    "faturamento = 1000\n",
    "type(faturamento)"
   ]
  },
  {
   "cell_type": "code",
   "execution_count": 2,
   "metadata": {},
   "outputs": [
    {
     "data": {
      "text/plain": [
       "float"
      ]
     },
     "execution_count": 2,
     "metadata": {},
     "output_type": "execute_result"
    }
   ],
   "source": [
    "faturamento = 1000.00\n",
    "type(faturamento)"
   ]
  },
  {
   "cell_type": "code",
   "execution_count": 3,
   "metadata": {},
   "outputs": [
    {
     "data": {
      "text/plain": [
       "str"
      ]
     },
     "execution_count": 3,
     "metadata": {},
     "output_type": "execute_result"
    }
   ],
   "source": [
    "faturamento = '1.000'\n",
    "type(faturamento)"
   ]
  },
  {
   "cell_type": "code",
   "execution_count": 4,
   "metadata": {},
   "outputs": [
    {
     "data": {
      "text/plain": [
       "bool"
      ]
     },
     "execution_count": 4,
     "metadata": {},
     "output_type": "execute_result"
    }
   ],
   "source": [
    "ganha_bonus = True\n",
    "type(ganha_bonus)"
   ]
  },
  {
   "cell_type": "markdown",
   "metadata": {},
   "source": [
    "### Misturando tipos de váriaveis no print()\n",
    "1º opção: <br>\n",
    "Utilizando o código str(nome da variável)<br>\n",
    "Ex: <br>\n",
    "print('texto' + str(nome da variável))"
   ]
  },
  {
   "cell_type": "code",
   "execution_count": 25,
   "metadata": {},
   "outputs": [
    {
     "name": "stdout",
     "output_type": "stream",
     "text": [
      "O faturamento da loja foi de 2000\n"
     ]
    }
   ],
   "source": [
    "faturamento =  2000\n",
    "print('O faturamento da loja foi de '+ str(faturamento))"
   ]
  },
  {
   "cell_type": "markdown",
   "metadata": {},
   "source": [
    "2º Opção:<br> \n",
    "Utilizando a virgula como separador <br>\n",
    "EX: <br>\n",
    "print('texto', nome da variável)"
   ]
  },
  {
   "cell_type": "code",
   "execution_count": 26,
   "metadata": {},
   "outputs": [
    {
     "name": "stdout",
     "output_type": "stream",
     "text": [
      "O custo da loja foi de 500\n"
     ]
    }
   ],
   "source": [
    "custo = 500\n",
    "print('O custo da loja foi de',custo)"
   ]
  },
  {
   "cell_type": "markdown",
   "metadata": {},
   "source": [
    "3º Opção:<br>\n",
    "Utilizando o .format <br>\n",
    "Ex: <br>\n",
    "print('texto {}'.format(nome da variável))"
   ]
  },
  {
   "cell_type": "code",
   "execution_count": 27,
   "metadata": {},
   "outputs": [
    {
     "name": "stdout",
     "output_type": "stream",
     "text": [
      "O lucro da loja foi de 1500\n",
      "\n"
     ]
    }
   ],
   "source": [
    "lucro = faturamento - custo\n",
    "print('O lucro da loja foi de {}\\n'.format(lucro))"
   ]
  },
  {
   "cell_type": "markdown",
   "metadata": {},
   "source": [
    "4º Opção: <br>\n",
    "Utilizando o f-string<br>\n",
    "Ex:<br>\n",
    "print(f'texto {nome da variável}')"
   ]
  },
  {
   "cell_type": "code",
   "execution_count": 29,
   "metadata": {},
   "outputs": [
    {
     "name": "stdout",
     "output_type": "stream",
     "text": [
      "O faturamento foi de 2000\n"
     ]
    }
   ],
   "source": [
    "print(f'O faturamento foi de {faturamento}')"
   ]
  },
  {
   "cell_type": "markdown",
   "metadata": {},
   "source": [
    "Quando temos mais de uma variável, fica assim:"
   ]
  },
  {
   "cell_type": "code",
   "execution_count": 32,
   "metadata": {},
   "outputs": [
    {
     "name": "stdout",
     "output_type": "stream",
     "text": [
      "O faturamento da loja foi de 2000\n",
      "O custo da loja foi de 500\n",
      "O lucro da loja foi de 1500\n",
      "\n",
      "O faturamento da loja foi de 2000\n",
      "O custo da loja foi de 500\n",
      "O lucro da loja foi de 1500\n",
      "\n",
      "O faturamento da loja foi de 2000 \n",
      "O custo da loja foi de 500 \n",
      "O lucro da loja foi de 1500 \n",
      "\n",
      "O faturamento da loja foi de 2000\n",
      "O custo da loja foi de 500\n",
      "O lucro da loja foi de 1500\n"
     ]
    }
   ],
   "source": [
    "print('O faturamento da loja foi de {}\\nO custo da loja foi de {}\\nO lucro da loja foi de {}\\n'.format(faturamento, custo, lucro))\n",
    "print('O faturamento da loja foi de ' + str(faturamento) + '\\nO custo da loja foi de ' + str(custo) + '\\nO lucro da loja foi de ' + str(lucro) + '\\n')\n",
    "print('O faturamento da loja foi de', faturamento,'\\nO custo da loja foi de', custo,'\\nO lucro da loja foi de', lucro,'\\n')\n",
    "print(f'O faturamento da loja foi de {faturamento}\\nO custo da loja foi de {custo}\\nO lucro da loja foi de {lucro}')"
   ]
  },
  {
   "cell_type": "markdown",
   "metadata": {},
   "source": [
    "### Mudança do tipo de variável"
   ]
  },
  {
   "cell_type": "code",
   "execution_count": 35,
   "metadata": {},
   "outputs": [
    {
     "name": "stdout",
     "output_type": "stream",
     "text": [
      "599.95\n"
     ]
    }
   ],
   "source": [
    "novo_faturamento = float(input('Insira o faturamento:'))\n",
    "novo_custo = float(input('Insira o custo:'))\n",
    "novo_lucro = novo_faturamento - novo_custo\n",
    "print(novo_lucro)\n",
    "\n",
    "# str -> muda para string\n",
    "# int -> muda para inteiro\n",
    "# float -> muda para float"
   ]
  }
 ],
 "metadata": {
  "kernelspec": {
   "display_name": "Python 3",
   "language": "python",
   "name": "python3"
  },
  "language_info": {
   "codemirror_mode": {
    "name": "ipython",
    "version": 3
   },
   "file_extension": ".py",
   "mimetype": "text/x-python",
   "name": "python",
   "nbconvert_exporter": "python",
   "pygments_lexer": "ipython3",
   "version": "3.11.2"
  }
 },
 "nbformat": 4,
 "nbformat_minor": 4
}
