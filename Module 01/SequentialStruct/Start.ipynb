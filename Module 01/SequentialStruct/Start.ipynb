{
 "cells": [
  {
   "cell_type": "markdown",
   "metadata": {},
   "source": [
    "### Meu Primeiro programa em Python\n",
    "#### Bora pra cima! #ashtag"
   ]
  },
  {
   "cell_type": "code",
   "execution_count": 27,
   "metadata": {},
   "outputs": [
    {
     "name": "stdout",
     "output_type": "stream",
     "text": [
      "Hello World 2023\n",
      "qualquer coisa\n",
      "23\n",
      "True\n",
      "O preço é de: 5.5 a quantidade vendida foi de: 1500 \n",
      "o valor do lucro foi de: 8250.0\n",
      "Olá Gabriel Augusto\n",
      "Seu nome é bonito Gabriel Augusto\n"
     ]
    }
   ],
   "source": [
    "print('Hello World ' + '2023')\n",
    "qualquer_coisa = 'qualquer coisa'\n",
    "print(qualquer_coisa)\n",
    "print(7 % 3 + 2 * 3 + 1 * 2 * 5 + 6)\n",
    "print('Lira' in 'Lira é meu professor')\n",
    "#Verifica se a primeira string está dentro da segunda (case sensitive)\n",
    "preco = 5.50\n",
    "qntd_vendas = 1500\n",
    "lucro = preco * qntd_vendas\n",
    "print('O preço é de:', preco, 'a quantidade vendida foi de:', qntd_vendas,\n",
    "    '\\no valor do lucro foi de:', lucro)\n",
    "nome = input('Qual é o seu primeiro nome?')\n",
    "sobrenome = input('Qual o seu sobrenome?')\n",
    "print('Olá', nome, sobrenome)\n",
    "print('Seu nome é bonito'+ ' ' + nome + ' ' + sobrenome)"
   ]
  },
  {
   "cell_type": "markdown",
   "metadata": {},
   "source": [
    "### Cuidado Especial\n",
    "##### Nunca use o print com =\n",
    "Um erro comum é fazer algo como\n",
    "print = algum_valor\n",
    "- Isso não pode ser feito em momento algum. Isso porque colocar sinal de = atribui um valor ao print, que é um comamndo interno do Python\n",
    "- Fazer iso vai mudar o que a função print faz e vai gerar um erro nos códigos seguintes\n",
    "- Caso aconteça sem querer, reinicie o Kernel para corrigir"
   ]
  }
 ],
 "metadata": {
  "kernelspec": {
   "display_name": "Python 3",
   "language": "python",
   "name": "python3"
  },
  "language_info": {
   "codemirror_mode": {
    "name": "ipython",
    "version": 3
   },
   "file_extension": ".py",
   "mimetype": "text/x-python",
   "name": "python",
   "nbconvert_exporter": "python",
   "pygments_lexer": "ipython3",
   "version": "3.11.2"
  },
  "orig_nbformat": 4
 },
 "nbformat": 4,
 "nbformat_minor": 2
}
