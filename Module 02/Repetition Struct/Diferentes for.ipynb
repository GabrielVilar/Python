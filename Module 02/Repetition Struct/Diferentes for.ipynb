{
 "cells": [
  {
   "cell_type": "code",
   "execution_count": 5,
   "id": "f384c181",
   "metadata": {},
   "outputs": [],
   "source": [
    "produtos = [\"iphone\", \"ipad\", \"airpod\", \"macbook\"]\n",
    "precos = [7000, 10000, 2500, 14000]"
   ]
  },
  {
   "cell_type": "markdown",
   "id": "ed0a699c",
   "metadata": {},
   "source": [
    "### For item in lista"
   ]
  },
  {
   "cell_type": "code",
   "execution_count": 6,
   "id": "3053355f",
   "metadata": {},
   "outputs": [
    {
     "name": "stdout",
     "output_type": "stream",
     "text": [
      "7700.000000000001\n",
      "11000.0\n",
      "2750.0\n",
      "15400.000000000002\n"
     ]
    }
   ],
   "source": [
    "# preco com imposto\n",
    "for preco in precos:\n",
    "    print(preco * 1.1)"
   ]
  },
  {
   "cell_type": "markdown",
   "id": "80aa8d07",
   "metadata": {},
   "source": [
    "### For i in range"
   ]
  },
  {
   "cell_type": "code",
   "execution_count": 7,
   "id": "74b8e12d",
   "metadata": {},
   "outputs": [
    {
     "name": "stdout",
     "output_type": "stream",
     "text": [
      "produtos, iphone, preço, 7000\n",
      "produtos, ipad, preço, 10000\n",
      "produtos, airpod, preço, 2500\n",
      "produtos, macbook, preço, 14000\n"
     ]
    }
   ],
   "source": [
    "# preco de cada produto\n",
    "for i in range(len(produtos)):\n",
    "    print(f'produtos, {produtos[i]}, preço, {precos[i]}')"
   ]
  },
  {
   "cell_type": "markdown",
   "id": "ba0b37d3",
   "metadata": {},
   "source": [
    "### For item in lista com enumerate"
   ]
  },
  {
   "cell_type": "code",
   "execution_count": 11,
   "id": "38271545",
   "metadata": {},
   "outputs": [
    {
     "name": "stdout",
     "output_type": "stream",
     "text": [
      "produtos, iphone, preço, 7000, preço com imposto 7700.000000000001\n",
      "produtos, ipad, preço, 10000, preço com imposto 11000.0\n",
      "produtos, airpod, preço, 2500, preço com imposto 2750.0\n",
      "produtos, macbook, preço, 14000, preço com imposto 15400.000000000002\n"
     ]
    }
   ],
   "source": [
    "# preco de cada produto com imposto\n",
    "for i, preco in enumerate(precos):\n",
    "    print(f'produtos, {produtos[i]}, preço, {precos[i]}, preço com imposto {preco * 1.1}')"
   ]
  },
  {
   "cell_type": "code",
   "execution_count": 12,
   "id": "348bc3f0",
   "metadata": {},
   "outputs": [
    {
     "name": "stdout",
     "output_type": "stream",
     "text": [
      "produtos, iphone, preço, 7000, preço com imposto 7700.000000000001\n",
      "produtos, ipad, preço, 10000, preço com imposto 11000.0\n",
      "produtos, airpod, preço, 2500, preço com imposto 2750.0\n",
      "produtos, macbook, preço, 14000, preço com imposto 15400.000000000002\n"
     ]
    }
   ],
   "source": [
    "# preco de cada produto com imposto\n",
    "for i, preco in enumerate(precos):\n",
    "    produto = produtos[i]\n",
    "    preco = precos[i]\n",
    "    imposto = preco * 1.1\n",
    "    print(f'produtos, {produto}, preço, {preco}, preço com imposto {imposto}')"
   ]
  }
 ],
 "metadata": {
  "kernelspec": {
   "display_name": "Python 3 (ipykernel)",
   "language": "python",
   "name": "python3"
  },
  "language_info": {
   "codemirror_mode": {
    "name": "ipython",
    "version": 3
   },
   "file_extension": ".py",
   "mimetype": "text/x-python",
   "name": "python",
   "nbconvert_exporter": "python",
   "pygments_lexer": "ipython3",
   "version": "3.11.2"
  }
 },
 "nbformat": 4,
 "nbformat_minor": 5
}
