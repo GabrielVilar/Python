{
 "cells": [
  {
   "cell_type": "markdown",
   "metadata": {},
   "source": [
    "# Exercícios\n",
    "\n",
    "## 1. Criando um Registro de Hóspedes\n",
    "\n",
    "Digamos que você está criando o sistema para registrar a chegada de hóspedes em um hotel. No hotel, os hóspedes podem ter quartos com 1, 2, 3 e 4 pessoas. Seu sistema deve conseguir:\n",
    "\n",
    "1. Identificar quantas pessoas o hóspede que acabou de chegar vai ter no quarto (perguntando por meio de input)\n",
    "2. De acordo com a quantidade de pessoas do hóspede, ele deve fazer um for para perguntar o cpf e o nome de cada pessoa, a fim de registrá-la no quarto (2 inputs para cada pessoa, 1 para o cpf e outro para o nome)\n",
    "3. O seu programa então deve gerar uma lista com todas as pessoas que ficarão no quarto em que cada item dessa lista é o nome da pessoa e o cpf da pessoa, assim:"
   ]
  },
  {
   "cell_type": "raw",
   "metadata": {},
   "source": [
    "quarto = [\n",
    "    ['João', 'cpf:00000000000'],\n",
    "    ['Julia', 'cpf:11111111111'],\n",
    "    ['Marcus', 'cpf:22222222222'],\n",
    "    ['Maria', 'cpf:33333333333'],\n",
    "]"
   ]
  },
  {
   "cell_type": "markdown",
   "metadata": {},
   "source": [
    "- Para simplificar, não vamos nos preocupar com possibilidades de \"tentar colocar mais de 1 hóspede, digitar o cpf errado, etc. Nosso objetivo é treinar a criação de uma rotina de cadastro"
   ]
  },
  {
   "cell_type": "code",
   "execution_count": 55,
   "metadata": {},
   "outputs": [
    {
     "name": "stdout",
     "output_type": "stream",
     "text": [
      "quarto =  [['Gabriel', '02695184753'], ['Lucas', '12365478996']]\n"
     ]
    }
   ],
   "source": [
    "#seu código aqui\n",
    "qntd_hospedes = int(input(\"Qual a quantidade de hospedes? \"))\n",
    "quarto = [[] for _ in range(qntd_hospedes)] \n",
    "\n",
    "for i in range(qntd_hospedes):\n",
    "    nome = input(\"Qual é o seu nome? \")\n",
    "    quarto[i].append(nome)\n",
    "    cpf = input(\"Qual é o seu cpf? \")\n",
    "    quarto[i].append(cpf)\n",
    "    \n",
    "print(\"quarto = \",quarto)"
   ]
  },
  {
   "cell_type": "markdown",
   "metadata": {},
   "source": [
    "## Gabarito"
   ]
  },
  {
   "cell_type": "code",
   "execution_count": 67,
   "metadata": {},
   "outputs": [
    {
     "name": "stdout",
     "output_type": "stream",
     "text": [
      "Quarto:  [['Nome: Lucas', 'cpf: 85296314723'], ['Nome: João', 'cpf: 87956423152']]\n"
     ]
    }
   ],
   "source": [
    "qntd_hospedes = int(input(\"Quantas pessoas terão no quarto? \"))\n",
    "quarto = []\n",
    "\n",
    "for i in range(qntd_hospedes):\n",
    "    nome = input(\"Qual é o seu nome?\")\n",
    "    cpf = input(\"Qual o cpf? \")\n",
    "    hospede = [\"Nome: \"+ nome, \"cpf: \" + cpf]\n",
    "    quarto.append(hospede)\n",
    "print(\"Quarto: \", quarto)"
   ]
  },
  {
   "cell_type": "markdown",
   "metadata": {},
   "source": [
    "## 2. Análise de Vendas\n",
    "\n",
    "Nesse exercício vamos fazer uma \"análise simples\" de atingimento de Meta.\n",
    "\n",
    "Temos uma lista com os vendedores e os valores de vendas e queremos identificar (printar) quais os vendedores que bateram a meta e qual foi o valor que eles venderam."
   ]
  },
  {
   "cell_type": "code",
   "execution_count": 61,
   "metadata": {},
   "outputs": [
    {
     "name": "stdout",
     "output_type": "stream",
     "text": [
      "6\n",
      "O vendedor João bateu a meta, ele vendeu 15000\n",
      "O vendedor Julia bateu a meta, ele vendeu 27000\n",
      "O vendedor Ana bateu a meta, ele vendeu 10300\n"
     ]
    }
   ],
   "source": [
    "meta = 10000\n",
    "vendas = [\n",
    "    ['João', 15000],\n",
    "    ['Julia', 27000],\n",
    "    ['Marcus', 9900],\n",
    "    ['Maria', 3750],\n",
    "    ['Ana', 10300],\n",
    "    ['Alon', 7870],\n",
    "]\n",
    "\n",
    "for i,venda in enumerate(vendas):\n",
    "    \n",
    "    if (vendas[i][1] >= meta):\n",
    "        print(f'O vendedor {vendas[i][0]} bateu a meta, ele vendeu {vendas[i][1]}')"
   ]
  },
  {
   "cell_type": "markdown",
   "metadata": {},
   "source": [
    "## Gabarito"
   ]
  },
  {
   "cell_type": "code",
   "execution_count": 68,
   "metadata": {},
   "outputs": [
    {
     "name": "stdout",
     "output_type": "stream",
     "text": [
      "Vendedor João bateu a meta. Fez 15000 vendas\n",
      "Vendedor Julia bateu a meta. Fez 27000 vendas\n",
      "Vendedor Ana bateu a meta. Fez 10300 vendas\n"
     ]
    }
   ],
   "source": [
    "meta = 10000\n",
    "vendas = [\n",
    "    ['João', 15000],\n",
    "    ['Julia', 27000],\n",
    "    ['Marcus', 9900],\n",
    "    ['Maria', 3750],\n",
    "    ['Ana', 10300],\n",
    "    ['Alon', 7870],\n",
    "]\n",
    "\n",
    "for item in vendas:\n",
    "    if item[1] >= meta:\n",
    "        print(f'Vendedor {item[0]} bateu a meta. Fez {item[1]} vendas')"
   ]
  },
  {
   "cell_type": "markdown",
   "metadata": {},
   "source": [
    "## 3. Comparação com Ano Anterior\n",
    "\n",
    "Digamos que você está analisando as vendas de produtos de um ecommerce e quer identificar quais produtos tiveram no ano de 2020 mais vendas do que no ano de 2019, para reportar isso para a diretoria.\n",
    "\n",
    "Sua resposta pode ser um print de cada produto, qual foi a venda de 2019, a venda de 2020 e o % de crescimento de 2020 para 2019.\n",
    "\n",
    "Lembrando, para calcular o % de crescimento de um produto de um ano para o outro, podemos fazer: (vendas_produto2020/vendas_produto2019 - 1)\n",
    "\n",
    "Dica: lembre do enumerate, ele pode facilitar seu \"for\""
   ]
  },
  {
   "cell_type": "code",
   "execution_count": 65,
   "metadata": {},
   "outputs": [
    {
     "name": "stdout",
     "output_type": "stream",
     "text": [
      "O total de vendas de iphone em 2019 foi de 558147, já em 2020 foi de 951642. A porcentagem de crescimento foi de 0.71 %\n",
      "O total de vendas de galaxy em 2019 foi de 712350, já em 2020 foi de 244295. A porcentagem de crescimento foi de -0.66 %\n",
      "O total de vendas de ipad em 2019 foi de 573823, já em 2020 foi de 26964. A porcentagem de crescimento foi de -0.95 %\n",
      "O total de vendas de tv em 2019 foi de 405252, já em 2020 foi de 787604. A porcentagem de crescimento foi de 0.94 %\n",
      "O total de vendas de máquina de café em 2019 foi de 718654, já em 2020 foi de 867660. A porcentagem de crescimento foi de 0.21 %\n",
      "O total de vendas de kindle em 2019 foi de 531580, já em 2020 foi de 78830. A porcentagem de crescimento foi de -0.85 %\n",
      "O total de vendas de geladeira em 2019 foi de 973139, já em 2020 foi de 710331. A porcentagem de crescimento foi de -0.27 %\n",
      "O total de vendas de adega em 2019 foi de 892292, já em 2020 foi de 646016. A porcentagem de crescimento foi de -0.28 %\n",
      "O total de vendas de notebook dell em 2019 foi de 422760, já em 2020 foi de 694913. A porcentagem de crescimento foi de 0.64 %\n",
      "O total de vendas de notebook hp em 2019 foi de 154753, já em 2020 foi de 539704. A porcentagem de crescimento foi de 2.49 %\n",
      "O total de vendas de notebook asus em 2019 foi de 887061, já em 2020 foi de 324831. A porcentagem de crescimento foi de -0.63 %\n",
      "O total de vendas de microsoft surface em 2019 foi de 438508, já em 2020 foi de 667179. A porcentagem de crescimento foi de 0.52 %\n",
      "O total de vendas de webcam em 2019 foi de 237467, já em 2020 foi de 295633. A porcentagem de crescimento foi de 0.24 %\n",
      "O total de vendas de caixa de som em 2019 foi de 489705, já em 2020 foi de 725316. A porcentagem de crescimento foi de 0.48 %\n",
      "O total de vendas de microfone em 2019 foi de 328311, já em 2020 foi de 644622. A porcentagem de crescimento foi de 0.96 %\n",
      "O total de vendas de câmera canon em 2019 foi de 591120, já em 2020 foi de 994303. A porcentagem de crescimento foi de 0.68 %\n"
     ]
    }
   ],
   "source": [
    "produtos = ['iphone', 'galaxy', 'ipad', 'tv', 'máquina de café', 'kindle', 'geladeira', 'adega', 'notebook dell', 'notebook hp', 'notebook asus', 'microsoft surface', 'webcam', 'caixa de som', 'microfone', 'câmera canon']\n",
    "vendas2019 = [558147,712350,573823,405252,718654,531580,973139,892292,422760,154753,887061,438508,237467,489705,328311,591120]\n",
    "vendas2020 = [951642,244295,26964,787604,867660,78830,710331,646016,694913,539704,324831,667179,295633,725316,644622,994303]\n",
    "#seu código aqui\n",
    "for i, produto in enumerate(produtos):\n",
    "    crescimento = (vendas2020[i] / vendas2019[i] - 1)\n",
    "    print(f'O total de vendas de {produtos[i]} em 2019 foi de {vendas2019[i]}, já em 2020 foi de {vendas2020[i]}. A porcentagem de crescimento foi de {crescimento:.2f} %')"
   ]
  }
 ],
 "metadata": {
  "kernelspec": {
   "display_name": "Python 3",
   "language": "python",
   "name": "python3"
  },
  "language_info": {
   "codemirror_mode": {
    "name": "ipython",
    "version": 3
   },
   "file_extension": ".py",
   "mimetype": "text/x-python",
   "name": "python",
   "nbconvert_exporter": "python",
   "pygments_lexer": "ipython3",
   "version": "3.11.2"
  }
 },
 "nbformat": 4,
 "nbformat_minor": 4
}
