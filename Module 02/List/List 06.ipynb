{
 "cells": [
  {
   "cell_type": "markdown",
   "metadata": {},
   "source": [
    "# Juntar Listas, Ordenar e Cuidados Especiais\n",
    "\n",
    "### 2 formas:\n",
    "\n",
    "- lista1.extend(lista2)\n",
    "- lista_nova = lista1 + lista2\n",
    "\n",
    "Obs: o Método .append não junta listas, mas adiciona um valor no final da lista"
   ]
  },
  {
   "cell_type": "code",
   "execution_count": 18,
   "metadata": {},
   "outputs": [
    {
     "name": "stdout",
     "output_type": "stream",
     "text": [
      "['apple tv', 'mac', 'iphone x', 'iphone 11', 'IPad', 'apple watch', 'mac book', 'airpods'] \n",
      " ['iphone 12', 'ioculos']\n",
      "['apple tv', 'mac', 'iphone x', 'iphone 11', 'IPad', 'apple watch', 'mac book', 'airpods', 'iphone 12', 'ioculos']\n"
     ]
    }
   ],
   "source": [
    "produtos = ['apple tv', 'mac', 'iphone x', 'iphone 11', 'IPad', 'apple watch', 'mac book', 'airpods']\n",
    "novos_produtos = ['iphone 12', 'ioculos']\n",
    "print(produtos,'\\n',novos_produtos)\n",
    "produtos.extend(novos_produtos)\n",
    "print(produtos)"
   ]
  },
  {
   "cell_type": "code",
   "execution_count": 19,
   "metadata": {},
   "outputs": [
    {
     "name": "stdout",
     "output_type": "stream",
     "text": [
      "['rua', 'asfalto', 'pedra', 'brita', 'tijolo', 'tesoura', 'triangulo']\n"
     ]
    }
   ],
   "source": [
    "produtos2 = ['rua','asfalto','pedra','brita','tijolo']\n",
    "novos_produtos = ['tesoura', 'triangulo']\n",
    "todos_os_produtos = produtos2 + novos_produtos\n",
    "print(todos_os_produtos)"
   ]
  },
  {
   "cell_type": "code",
   "execution_count": 20,
   "metadata": {},
   "outputs": [
    {
     "name": "stdout",
     "output_type": "stream",
     "text": [
      "['Liu', 'Lara', 'Pedro', 'Juana', 'Joquete', ['Glenda', 'Guapa']]\n"
     ]
    }
   ],
   "source": [
    "amigos = ['Liu','Lara', 'Pedro','Juana', 'Joquete']\n",
    "inimigos = ['Glenda','Guapa']\n",
    "# append vai colocar uma lista dentro da outra \n",
    "# comumetente ele serve para adicionar um item no final da lista\n",
    "amigos.append(inimigos)\n",
    "print(amigos)"
   ]
  },
  {
   "cell_type": "markdown",
   "metadata": {},
   "source": [
    "### Cuidado:\n",
    "\n",
    "- [1] + [2] não é a mesma coisa que 1 + 2, então cuidado sempre com o formato dos valores na hora de fazer operações."
   ]
  },
  {
   "cell_type": "code",
   "execution_count": 24,
   "metadata": {},
   "outputs": [
    {
     "name": "stdout",
     "output_type": "stream",
     "text": [
      "35000\n",
      "[15000, 20000]\n",
      "35000\n",
      "[1, 2]\n",
      "3\n"
     ]
    }
   ],
   "source": [
    "vendas = [1000, 1500, 15000, 20000, 270, 900, 100, 1200]\n",
    "vendas_iphonex = [15000]\n",
    "vendas_iphone11 = [20000]\n",
    "# Somando o total de vendas dos iphones pela lista vendas\n",
    "total_iphone = vendas[2] + vendas[3]\n",
    "print(total_iphone)\n",
    "# Criando uma nova lista com a junção de duas listas\n",
    "total_iphone_lista = vendas_iphonex + vendas_iphone11\n",
    "print(total_iphone_lista)\n",
    "# Somando o total de vendas dos iphones pela lista vendas_iphonex e vendas_iphone11\n",
    "total_iphone_lista = vendas_iphonex[0] + vendas_iphone11[0]\n",
    "print(total_iphone_lista)\n",
    "# Outro exemplo\n",
    "print([1] + [2])\n",
    "print(1+2)"
   ]
  },
  {
   "cell_type": "markdown",
   "metadata": {},
   "source": [
    "### Ordenar listas\n",
    "\n",
    "lista.sort()"
   ]
  },
  {
   "cell_type": "code",
   "execution_count": 27,
   "metadata": {},
   "outputs": [
    {
     "name": "stdout",
     "output_type": "stream",
     "text": [
      "['IPad', 'airpods', 'apple tv', 'apple watch', 'ioculos', 'iphone 11', 'iphone 12', 'iphone x', 'mac', 'mac book']\n",
      "[100, 270, 900, 1000, 1200, 1500, 15000, 20000]\n",
      "[20000, 15000, 1500, 1200, 1000, 900, 270, 100]\n"
     ]
    }
   ],
   "source": [
    "produtos.sort()\n",
    "# Sort em ordem alfabetica, maiúsculas vem antes das minúsculas\n",
    "print(produtos)\n",
    "vendas.sort()\n",
    "# Vai do menor para o maior\n",
    "print(vendas)\n",
    "vendas.sort(reverse=True)\n",
    "# Vai do maior para o menor\n",
    "print(vendas)"
   ]
  }
 ],
 "metadata": {
  "kernelspec": {
   "display_name": "Python 3",
   "language": "python",
   "name": "python3"
  },
  "language_info": {
   "codemirror_mode": {
    "name": "ipython",
    "version": 3
   },
   "file_extension": ".py",
   "mimetype": "text/x-python",
   "name": "python",
   "nbconvert_exporter": "python",
   "pygments_lexer": "ipython3",
   "version": "3.11.2"
  }
 },
 "nbformat": 4,
 "nbformat_minor": 4
}
