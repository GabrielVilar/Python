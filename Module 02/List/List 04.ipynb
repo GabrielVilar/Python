{
 "cells": [
  {
   "cell_type": "markdown",
   "metadata": {},
   "source": [
    "# Adicionar e Remover itens de uma lista\n",
    "\n",
    "Adicionar:<br>\n",
    "lista.append(item)\n",
    "\n",
    "Remover:<br>\n",
    "item_removido = lista.pop(indice)<br>\n",
    "lista.remove(item)\n",
    "\n",
    "Digamos que você está construindo o controle de produtos da Apple.<br>\n",
    "E a Apple lançou o IPhone 11 e irá tirar dos seus estoques o IPhone X"
   ]
  },
  {
   "cell_type": "code",
   "execution_count": 7,
   "metadata": {},
   "outputs": [
    {
     "name": "stdout",
     "output_type": "stream",
     "text": [
      "['apple tv', 'mac', 'iphone x', 'IPad', 'apple watch', 'mac book', 'airpods']\n",
      "['apple tv', 'mac', 'iphone x', 'IPad', 'apple watch', 'mac book', 'airpods', 'iphone 11']\n",
      "['apple tv', 'mac', 'IPad', 'apple watch', 'mac book', 'airpods', 'iphone 11']\n",
      "Removemos o iphone x da lista\n"
     ]
    }
   ],
   "source": [
    "produtos = ['apple tv', 'mac', 'iphone x', 'IPad', 'apple watch', 'mac book', 'airpods']\n",
    "print(produtos)\n",
    "# adicionar o iphone 11\n",
    "produtos.append('iphone 11')\n",
    "print(produtos)\n",
    "# remover o iphone x\n",
    "# produtos.remove('iphone x')\n",
    "item_removido = produtos.pop(2)\n",
    "print(produtos)\n",
    "print(f'Removemos o {item_removido} da lista')"
   ]
  },
  {
   "cell_type": "markdown",
   "metadata": {},
   "source": [
    "## Existem 2 formas de tratar o erro:\n",
    "\n",
    "1. Criar um if para evitar que ele aconteça\n",
    "\n",
    "2. Esperar que ele possa acontecer e tratar caso o erro aconteça com:"
   ]
  },
  {
   "cell_type": "raw",
   "metadata": {},
   "source": [
    "try:\n",
    "    tentar fazer\n",
    "except:\n",
    "    caso dê errado"
   ]
  },
  {
   "cell_type": "code",
   "execution_count": 13,
   "metadata": {},
   "outputs": [
    {
     "name": "stdout",
     "output_type": "stream",
     "text": [
      "Sua primeira lista:\n",
      "['macarrão', 'arroz', 'feijão', 'carne', 'ovo', 'beacon']\n",
      "O produto guarana foi colocado com sucesso na sua lista de compras:\n",
      "['macarrão', 'arroz', 'feijão', 'carne', 'ovo', 'beacon', 'guarana']\n",
      "O produto guapé já não fazia parte da sua lista de compras antes\n"
     ]
    }
   ],
   "source": [
    "mercado = ['macarrão', 'arroz', 'feijão', 'carne', 'ovo', 'beacon']\n",
    "print(f'Sua primeira lista:\\n{mercado}')\n",
    "adcionar = input('Qual item você deseja adicionar a sua lista?')\n",
    "mercado.append(adcionar)\n",
    "print(f'O produto {adcionar} foi colocado com sucesso na sua lista de compras:\\n{mercado}')\n",
    "remover = input('Insira o nome do produto que você que remover da lista: (em letras minúsculas)')\n",
    "if remover in mercado:\n",
    "    indice = mercado.index(remover)\n",
    "    itm_remover = mercado.pop(indice)\n",
    "    print(f'O produto {remover} foi removido com sucesso da sua lista de compras\\n{mercado}')\n",
    "else:\n",
    "    print(f'O produto {remover} já não fazia parte da sua lista de compras antes.')"
   ]
  },
  {
   "cell_type": "code",
   "execution_count": 15,
   "metadata": {},
   "outputs": [
    {
     "name": "stdout",
     "output_type": "stream",
     "text": [
      "Sua lista de carros\n",
      "['ferrari', 'fusca', 'bentley', 'lamborghini', 'porsche']\n",
      "O produto Camaro foi colocado com sucesso na sua lista de carros:\n",
      "['ferrari', 'fusca', 'bentley', 'lamborghini', 'porsche', 'Camaro']\n",
      "O carro sadfadf já não fazia parte da sua lista de carros antes.\n"
     ]
    }
   ],
   "source": [
    "carros = ['ferrari', 'fusca', 'bentley', 'lamborghini', 'porsche']\n",
    "print(f'Sua lista de carros\\n{carros}')\n",
    "adcionar = input('Qual carro você que adicionar a sua lista?')\n",
    "carros.append(adcionar)\n",
    "print(f'O produto {adcionar} foi colocado com sucesso na sua lista de carros:\\n{carros}')\n",
    "remover = input('Insira o nome do carro que você que remover da lista: (em letras minúsculas)')\n",
    "try:\n",
    "    indice = carros.index(remover)\n",
    "    itm_remover = carros.pop(indice)\n",
    "    print(f'O carro {remover} foi removido com sucesso da sua lista de carros\\n{carros}')\n",
    "except:\n",
    "    print(f'O carro {remover} já não fazia parte da sua lista de carros antes.')"
   ]
  }
 ],
 "metadata": {
  "kernelspec": {
   "display_name": "Python 3",
   "language": "python",
   "name": "python3"
  },
  "language_info": {
   "codemirror_mode": {
    "name": "ipython",
    "version": 3
   },
   "file_extension": ".py",
   "mimetype": "text/x-python",
   "name": "python",
   "nbconvert_exporter": "python",
   "pygments_lexer": "ipython3",
   "version": "3.11.2"
  }
 },
 "nbformat": 4,
 "nbformat_minor": 4
}
