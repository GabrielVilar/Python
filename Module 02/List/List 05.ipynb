{
 "cells": [
  {
   "cell_type": "markdown",
   "metadata": {},
   "source": [
    "# Algumas Funções Básicas de Lista\n",
    "\n",
    "## Tamanho da Lista\n",
    "\n",
    "tamanho = len(lista)"
   ]
  },
  {
   "cell_type": "code",
   "execution_count": 2,
   "metadata": {},
   "outputs": [],
   "source": [
    "produtos = ['apple tv', 'mac', 'iphone x', 'IPad', 'apple watch', 'mac book', 'airpods']"
   ]
  },
  {
   "cell_type": "markdown",
   "metadata": {},
   "source": [
    "- Quantos produtos temos a venda?"
   ]
  },
  {
   "cell_type": "code",
   "execution_count": 3,
   "metadata": {},
   "outputs": [
    {
     "name": "stdout",
     "output_type": "stream",
     "text": [
      "Temos 7 produtos\n"
     ]
    }
   ],
   "source": [
    "tamanho_lista = len(produtos)\n",
    "print(f'Temos {tamanho_lista} produtos')"
   ]
  },
  {
   "cell_type": "markdown",
   "metadata": {},
   "source": [
    "## Maior e Menor Valor\n",
    "\n",
    "maior = max(lista)\n",
    "\n",
    "menor = min(lista)"
   ]
  },
  {
   "cell_type": "code",
   "execution_count": 8,
   "metadata": {},
   "outputs": [],
   "source": [
    "vendas = [1000, 1500, 15000, 270, 900, 123, 1200]"
   ]
  },
  {
   "cell_type": "markdown",
   "metadata": {},
   "source": [
    "- Qual o item mais vendido?\n",
    "- Qual o item menos vendido?"
   ]
  },
  {
   "cell_type": "code",
   "execution_count": 10,
   "metadata": {},
   "outputs": [
    {
     "name": "stdout",
     "output_type": "stream",
     "text": [
      "O produto iphone x foi o mais vendido e teve 15000 unidades vendidas.\n",
      "O produto mac book foi o menos vendido e teve apenas 123 unidades vendidas.\n"
     ]
    }
   ],
   "source": [
    "mais_vendido = max(vendas)\n",
    "indice_mais_vendido = vendas.index(mais_vendido)\n",
    "produto_mais_vendido = produtos[indice_mais_vendido]\n",
    "menos_vendido = min(vendas)\n",
    "indice_menos_vendido = vendas.index(menos_vendido)\n",
    "produto_menos_vendido = produtos[indice_menos_vendido]\n",
    "print(f'O produto {produto_mais_vendido} foi o mais vendido e teve {mais_vendido} unidades vendidas.\\nO produto {produto_menos_vendido} foi o menos vendido e teve apenas {menos_vendido} unidades vendidas.')"
   ]
  }
 ],
 "metadata": {
  "kernelspec": {
   "display_name": "Python 3",
   "language": "python",
   "name": "python3"
  },
  "language_info": {
   "codemirror_mode": {
    "name": "ipython",
    "version": 3
   },
   "file_extension": ".py",
   "mimetype": "text/x-python",
   "name": "python",
   "nbconvert_exporter": "python",
   "pygments_lexer": "ipython3",
   "version": "3.11.2"
  }
 },
 "nbformat": 4,
 "nbformat_minor": 4
}
