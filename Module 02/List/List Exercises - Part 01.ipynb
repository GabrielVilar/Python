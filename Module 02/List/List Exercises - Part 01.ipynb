{
 "cells": [
  {
   "cell_type": "markdown",
   "metadata": {},
   "source": [
    "# Exercícios\n",
    "\n",
    "## 1. Faturamento do Melhor e do Pior Mês do Ano\n",
    "\n",
    "Qual foi o valor de vendas do melhor mês do Ano?\n",
    "E valor do pior mês do ano?"
   ]
  },
  {
   "cell_type": "code",
   "execution_count": 95,
   "metadata": {},
   "outputs": [
    {
     "name": "stdout",
     "output_type": "stream",
     "text": [
      "O mês que mais vendeu foi o de nov que vendeu 49051.\n",
      "O mês que menos vendeu foi o de dez que vendeu 9650.\n"
     ]
    }
   ],
   "source": [
    "meses = ['jan', 'fev', 'mar', 'abr', 'mai', 'jun', 'jul', 'ago', 'set', 'out', 'nov', 'dez']\n",
    "vendas_1sem = [25000, 29000, 22200, 17750, 15870, 19900]\n",
    "vendas_2sem = [19850, 20120, 17540, 15555, 49051, 9650]\n",
    "\n",
    "print(f'O mês que mais vendeu foi o de {meses[10]} que vendeu {vendas_2sem[4]}.\\nO mês que menos vendeu foi o de {meses[11]} que vendeu {vendas_2sem[5]}.')"
   ]
  },
  {
   "cell_type": "code",
   "execution_count": 96,
   "metadata": {},
   "outputs": [
    {
     "name": "stdout",
     "output_type": "stream",
     "text": [
      "O maior valor foi 49051\n",
      "O menor valor foi 9650\n",
      "[25000, 29000, 22200, 17750, 15870, 19900, 19850, 20120, 17540, 15555, 49051, 9650]\n"
     ]
    }
   ],
   "source": [
    "meses = ['jan', 'fev', 'mar', 'abr', 'mai', 'jun', 'jul', 'ago', 'set', 'out', 'nov', 'dez']\n",
    "vendas_1sem = [25000, 29000, 22200, 17750, 15870, 19900]\n",
    "vendas_2sem = [19850, 20120, 17540, 15555, 49051, 9650]\n",
    "\n",
    "vendas_1sem.extend(vendas_2sem)\n",
    "maior_valor = max(vendas_1sem)\n",
    "menor_valor = min(vendas_1sem)\n",
    "print(f'O maior valor foi {maior_valor}')\n",
    "print(f'O menor valor foi {menor_valor}')\n",
    "print(vendas_1sem)"
   ]
  },
  {
   "cell_type": "markdown",
   "metadata": {},
   "source": [
    "## 2. Continuação\n",
    "\n",
    "Agora relacione as duas listas para printar 'O melhor mês do ano foi {} com {} vendas' e o mesmo para o pior mês do ano.\n",
    "\n",
    "Calcule também o faturamento total do Ano e quanto que o melhor mês representou do faturamento total.\n",
    "\n",
    "Obs: Para o faturamento total, pode usar a função sum(lista) que soma todos os itens de uma lista"
   ]
  },
  {
   "cell_type": "code",
   "execution_count": 97,
   "metadata": {},
   "outputs": [
    {
     "name": "stdout",
     "output_type": "stream",
     "text": [
      "O melhor mês do ano foi nov com 49051 vendas\n",
      "O pior mês do ano foi dez com 9650 vendas\n",
      "O faturamento total foi de: 393252\n",
      "O melhor mês, o de nov representou 12.47% do faturamento total\n"
     ]
    }
   ],
   "source": [
    "print(f'O melhor mês do ano foi {meses[10]} com {vendas_2sem[4]} vendas')\n",
    "print(f'O pior mês do ano foi {meses[11]} com {vendas_2sem[5]} vendas')\n",
    "\n",
    "faturamento_total = sum(vendas_1sem) + sum(vendas_2sem)\n",
    "maior_faturamento = vendas_2sem[4]\n",
    "cntrbuicao_maior = ((maior_faturamento * 100)/ faturamento_total)\n",
    "print(f'O faturamento total foi de: {faturamento_total}')\n",
    "print(f'O melhor mês, o de {meses[10]} representou {cntrbuicao_maior:.2f}% do faturamento total')"
   ]
  },
  {
   "cell_type": "code",
   "execution_count": 98,
   "metadata": {},
   "outputs": [
    {
     "name": "stdout",
     "output_type": "stream",
     "text": [
      "O melhor mês do ano foi o de nov com 49051 vendas\n",
      "O pior mês do ano foi o de dez com 9650 vendas\n",
      "O faturamento total foi de $261,486\n",
      "O melhor mês representou 18.76% das vendas totais do ano\n"
     ]
    }
   ],
   "source": [
    "maior_valor_i = vendas_1sem.index(maior_valor)\n",
    "menor_valor_i = vendas_1sem.index(menor_valor)\n",
    "print(f'O melhor mês do ano foi o de {meses[maior_valor_i]} com {maior_valor} vendas')\n",
    "print(f'O pior mês do ano foi o de {meses[menor_valor_i]} com {menor_valor} vendas')\n",
    "faturamento_total = sum(vendas_1sem)\n",
    "print(f'O faturamento total foi de ${faturamento_total:,}')\n",
    "percentual = maior_valor / faturamento_total\n",
    "print(f'O melhor mês representou {percentual:.2%} das vendas totais do ano')"
   ]
  },
  {
   "cell_type": "markdown",
   "metadata": {},
   "source": [
    "## 3. Crie uma lista com o top 3 valores de vendas do ano (sem fazer \"no olho\")\n",
    "\n",
    "Dica: o método remove retira um item da lista."
   ]
  },
  {
   "cell_type": "code",
   "execution_count": 99,
   "metadata": {},
   "outputs": [
    {
     "name": "stdout",
     "output_type": "stream",
     "text": [
      "[25000, 29000, 22200, 17750, 15870, 19900, 19850, 20120, 17540, 15555, 49051, 9650]\n",
      "[25000, 29000, 22200, 17750, 15870, 19900, 19850, 20120, 17540, 15555, 9650]\n",
      "[25000, 22200, 17750, 15870, 19900, 19850, 20120, 17540, 15555, 9650]\n",
      "[49051, 29000, 25000]\n"
     ]
    }
   ],
   "source": [
    "top3 = []\n",
    "print(vendas_1sem)\n",
    "valor_maior = max(vendas_1sem)\n",
    "top3.append(valor_maior)\n",
    "vendas_1sem.remove(valor_maior)\n",
    "\n",
    "print(vendas_1sem)\n",
    "valor_maior = max(vendas_1sem)\n",
    "top3.append(valor_maior)\n",
    "vendas_1sem.remove(valor_maior)\n",
    "\n",
    "print(vendas_1sem)\n",
    "valor_maior = max(vendas_1sem)\n",
    "top3.append(valor_maior)\n",
    "print(top3)"
   ]
  }
 ],
 "metadata": {
  "kernelspec": {
   "display_name": "Python 3",
   "language": "python",
   "name": "python3"
  },
  "language_info": {
   "codemirror_mode": {
    "name": "ipython",
    "version": 3
   },
   "file_extension": ".py",
   "mimetype": "text/x-python",
   "name": "python",
   "nbconvert_exporter": "python",
   "pygments_lexer": "ipython3",
   "version": "3.10.12"
  }
 },
 "nbformat": 4,
 "nbformat_minor": 4
}
